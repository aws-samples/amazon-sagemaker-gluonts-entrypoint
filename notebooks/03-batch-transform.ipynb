{
 "cells": [
  {
   "cell_type": "markdown",
   "metadata": {},
   "source": [
    "**<div style='font-size:200%'>Batch Transform using the sm-gluonts entrypoint</div>**\n",
    "\n",
    "In this notebook, we first register a model artifact into a SageMaker model, then perform a batch evaluation. Optionally, we deregister the model."
   ]
  },
  {
   "cell_type": "code",
   "execution_count": null,
   "metadata": {},
   "outputs": [],
   "source": [
    "%matplotlib inline\n",
    "%load_ext autoreload\n",
    "%autoreload 2\n",
    "%config InlineBackend.figure_format = 'retina'\n",
    "\n",
    "import logging\n",
    "import sagemaker as sm\n",
    "from sagemaker.mxnet.model import MXNetModel\n",
    "\n",
    "role: str = sm.get_execution_role()    # When running on SageMaker notebook instance.\n",
    "sess = sm.Session()\n",
    "region: str = sess.boto_session.region_name"
   ]
  },
  {
   "cell_type": "markdown",
   "metadata": {},
   "source": [
    "# Global config"
   ]
  },
  {
   "cell_type": "code",
   "execution_count": null,
   "metadata": {},
   "outputs": [],
   "source": [
    "# I/O S3 paths MUST have trailing '/'\n",
    "# Good data from yesterday (20200924)\n",
    "#\n",
    "# Today's data 20200925 from:\n",
    "# s3://app01-nvsgisrssr07-be-sh-modelartifactbucketdd4cb-9qo6k8mkeset/planning/inference-runs-NIBR-Cambridge/weekly/inference-230911/preprocess-output/DeepAR-NGB-LSTM-XGB/\n",
    "\n",
    "bt_input = 's3://BUCKET/BT_INPUT/'\n",
    "bt_output = 's3://BUCKET/BT_OUTPUT/'\n",
    "data_json = 'fcast-input.json'\n",
    "\n",
    "train_model_artifact = \"model_s3_FROM_NOTEBOOK_02-hpo-train\"\n",
    "\n",
    "%set_env BT_INPUT=$bt_input\n",
    "%set_env BT_OUTPUT=$bt_output\n",
    "%set_env DATA_JSON=$data_json"
   ]
  },
  {
   "cell_type": "code",
   "execution_count": null,
   "metadata": {},
   "outputs": [],
   "source": [
    "train_model_artifact"
   ]
  },
  {
   "cell_type": "markdown",
   "metadata": {},
   "source": [
    "# Create model\n",
    "\n",
    "Let SDK auto-generates the model name, so we can safely make this notebook reentrant."
   ]
  },
  {
   "cell_type": "code",
   "execution_count": null,
   "metadata": {},
   "outputs": [],
   "source": [
    "mxnet_model = MXNetModel(\n",
    "        model_data=train_model_artifact,\n",
    "        role=role,\n",
    "        entry_point='entrypoint.py',\n",
    "        source_dir='../../src/entrypoint',\n",
    "        py_version=\"py3\",\n",
    "        framework_version=\"1.6.0\",\n",
    "        sagemaker_session=sess,\n",
    "        container_log_level=logging.DEBUG,\n",
    "    )"
   ]
  },
  {
   "cell_type": "markdown",
   "metadata": {},
   "source": [
    "A bit of reverse engineering, to confirm env. vars that the model will end-up using. Will be useful when the time comes where I need to do all these in boto3 or botocore."
   ]
  },
  {
   "cell_type": "code",
   "execution_count": null,
   "metadata": {},
   "outputs": [],
   "source": [
    "# Before create model\n",
    "mxnet_model._framework_env_vars()"
   ]
  },
  {
   "cell_type": "code",
   "execution_count": null,
   "metadata": {},
   "outputs": [],
   "source": [
    "# Create model\n",
    "mxnet_model._create_sagemaker_model(instance_type='ml.m5.xlarge')"
   ]
  },
  {
   "cell_type": "code",
   "execution_count": null,
   "metadata": {},
   "outputs": [],
   "source": [
    "# Model name\n",
    "mxnet_model.name"
   ]
  },
  {
   "cell_type": "code",
   "execution_count": null,
   "metadata": {},
   "outputs": [],
   "source": [
    "mxnet_model._framework_env_vars()"
   ]
  },
  {
   "cell_type": "code",
   "execution_count": null,
   "metadata": {},
   "outputs": [],
   "source": [
    "# Peek into model's model.tar.gz (which is different from training artifact model.tar.gz).\n",
    "model_s3 = mxnet_model._framework_env_vars()['SAGEMAKER_SUBMIT_DIRECTORY']\n",
    "%set_env MODEL_S3=$model_s3\n",
    "!aws s3 cp $MODEL_S3 - | tar -tzvf -"
   ]
  },
  {
   "cell_type": "markdown",
   "metadata": {},
   "source": [
    "# Batch Transform"
   ]
  },
  {
   "cell_type": "code",
   "execution_count": null,
   "metadata": {},
   "outputs": [],
   "source": [
    "# Batch Transform\n",
    "bt = mxnet_model.transformer(\n",
    "    instance_count=1,\n",
    "    instance_type='ml.m5.4xlarge',\n",
    "    strategy='MultiRecord',\n",
    "    assemble_with='Line',\n",
    "    output_path=bt_output,\n",
    "    accept='application/json',\n",
    "    env={'SAGEMAKER_MODEL_SERVER_TIMEOUT': '3600'},\n",
    "    max_concurrent_transforms=8,\n",
    "    max_payload=1,\n",
    ")"
   ]
  },
  {
   "cell_type": "code",
   "execution_count": null,
   "metadata": {},
   "outputs": [],
   "source": [
    "bt.base_transform_job_name"
   ]
  },
  {
   "cell_type": "code",
   "execution_count": null,
   "metadata": {},
   "outputs": [],
   "source": [
    "bt.transform(\n",
    "    data=bt_input,\n",
    "    data_type='S3Prefix',\n",
    "    content_type='application/json',\n",
    "    split_type='Line',\n",
    "    wait=True,\n",
    "    logs=True,\n",
    "    #wait=False,\n",
    "    #logs=False,\n",
    ")"
   ]
  },
  {
   "cell_type": "markdown",
   "metadata": {},
   "source": [
    "# Quick check on the results\n",
    "\n",
    "**<font color=\"firebrick\">NOTE:</font>** if you don't see two exact same numbers, something's wrong, and scream very very loud ASAP!"
   ]
  },
  {
   "cell_type": "code",
   "execution_count": null,
   "metadata": {},
   "outputs": [],
   "source": [
    "!echo $(aws s3 cp ${BT_INPUT}${DATA_JSON} - | wc -l)\n",
    "!echo $(aws s3 cp ${BT_OUTPUT}${DATA_JSON}.out - | wc -l)"
   ]
  },
  {
   "cell_type": "code",
   "execution_count": null,
   "metadata": {},
   "outputs": [],
   "source": [
    "!aws s3 cp ${BT_OUTPUT}${DATA_JSON}.out - | head -1 | jq"
   ]
  },
  {
   "cell_type": "markdown",
   "metadata": {},
   "source": [
    "# Delete model\n",
    "\n",
    "Uncomment and execute cell to \"deregister\" the model from SageMaker. The inference model artifacts remain untouched in S3."
   ]
  },
  {
   "cell_type": "code",
   "execution_count": null,
   "metadata": {},
   "outputs": [],
   "source": [
    "#mxnet_model.delete_model()"
   ]
  }
 ],
 "metadata": {
  "kernelspec": {
   "display_name": "conda_python3",
   "language": "python",
   "name": "conda_python3"
  },
  "language_info": {
   "codemirror_mode": {
    "name": "ipython",
    "version": 3
   },
   "file_extension": ".py",
   "mimetype": "text/x-python",
   "name": "python",
   "nbconvert_exporter": "python",
   "pygments_lexer": "ipython3",
   "version": "3.6.10"
  },
  "toc-autonumbering": true
 },
 "nbformat": 4,
 "nbformat_minor": 4
}
