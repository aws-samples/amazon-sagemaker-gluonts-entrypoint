{
 "cells": [
  {
   "cell_type": "markdown",
   "metadata": {},
   "source": [
    "# Install Prerequisites\n",
    "\n",
    "This notebook installs packages needed by subsequent notebooks. On your SageMaker notebook instance, you must:\n",
    "\n",
    "1. open this notebook with the `conda_mxnet_p36` kernel,\n",
    "2. then execute the cells \n",
    "\n",
    "**NOTE**: you must always rerun this notebook after you restart your notebook instance."
   ]
  },
  {
   "cell_type": "code",
   "execution_count": 1,
   "metadata": {
    "collapsed": true,
    "jupyter": {
     "outputs_hidden": true
    }
   },
   "outputs": [
    {
     "name": "stdout",
     "output_type": "stream",
     "text": [
      "Found existing installation: enum34 1.1.10\n",
      "Uninstalling enum34-1.1.10:\n",
      "  Successfully uninstalled enum34-1.1.10\n",
      "Note: you may need to restart the kernel to use updated packages.\n",
      "Collecting gluonts\n",
      "  Downloading gluonts-0.5.1-py3-none-any.whl (419 kB)\n",
      "\u001b[K     |████████████████████████████████| 419 kB 13.3 MB/s eta 0:00:01\n",
      "\u001b[?25hCollecting smallmatter\n",
      "  Cloning https://github.com/verdimrc/smallmatter (to revision master) to /tmp/pip-install-sudkt082/smallmatter\n",
      "  Running command git clone -q https://github.com/verdimrc/smallmatter /tmp/pip-install-sudkt082/smallmatter\n",
      "  Installing build dependencies ... \u001b[?25ldone\n",
      "\u001b[?25h  Getting requirements to build wheel ... \u001b[?25ldone\n",
      "\u001b[?25h    Preparing wheel metadata ... \u001b[?25ldone\n",
      "\u001b[?25hCollecting pydantic~=1.1\n",
      "  Downloading pydantic-1.6.1-cp36-cp36m-manylinux2014_x86_64.whl (8.7 MB)\n",
      "\u001b[K     |████████████████████████████████| 8.7 MB 60.5 MB/s eta 0:00:01\n",
      "\u001b[?25hCollecting holidays<0.10,>=0.9\n",
      "  Downloading holidays-0.9.12.tar.gz (85 kB)\n",
      "\u001b[K     |████████████████████████████████| 85 kB 8.2 MB/s  eta 0:00:01\n",
      "\u001b[?25hRequirement already satisfied: ujson~=1.35 in /home/ec2-user/anaconda3/envs/mxnet_p36/lib/python3.6/site-packages (from gluonts) (1.35)\n",
      "Requirement already satisfied: tqdm~=4.23 in /home/ec2-user/anaconda3/envs/mxnet_p36/lib/python3.6/site-packages (from gluonts) (4.44.1)\n",
      "Requirement already satisfied: matplotlib~=3.0 in /home/ec2-user/anaconda3/envs/mxnet_p36/lib/python3.6/site-packages (from gluonts) (3.1.3)\n",
      "Requirement already satisfied: pandas<1.1,>=1.0 in /home/ec2-user/anaconda3/envs/mxnet_p36/lib/python3.6/site-packages (from gluonts) (1.0.5)\n",
      "Requirement already satisfied: numpy~=1.16 in /home/ec2-user/anaconda3/envs/mxnet_p36/lib/python3.6/site-packages (from gluonts) (1.18.1)\n",
      "Collecting dataclasses>=0.6; python_version < \"3.7\"\n",
      "  Downloading dataclasses-0.7-py3-none-any.whl (18 kB)\n",
      "Requirement already satisfied: python-dateutil in /home/ec2-user/anaconda3/envs/mxnet_p36/lib/python3.6/site-packages (from holidays<0.10,>=0.9->gluonts) (2.8.1)\n",
      "Requirement already satisfied: six in /home/ec2-user/anaconda3/envs/mxnet_p36/lib/python3.6/site-packages (from holidays<0.10,>=0.9->gluonts) (1.14.0)\n",
      "Requirement already satisfied: cycler>=0.10 in /home/ec2-user/anaconda3/envs/mxnet_p36/lib/python3.6/site-packages (from matplotlib~=3.0->gluonts) (0.10.0)\n",
      "Requirement already satisfied: kiwisolver>=1.0.1 in /home/ec2-user/anaconda3/envs/mxnet_p36/lib/python3.6/site-packages (from matplotlib~=3.0->gluonts) (1.1.0)\n",
      "Requirement already satisfied: pyparsing!=2.0.4,!=2.1.2,!=2.1.6,>=2.0.1 in /home/ec2-user/anaconda3/envs/mxnet_p36/lib/python3.6/site-packages (from matplotlib~=3.0->gluonts) (2.4.6)\n",
      "Requirement already satisfied: pytz>=2017.2 in /home/ec2-user/anaconda3/envs/mxnet_p36/lib/python3.6/site-packages (from pandas<1.1,>=1.0->gluonts) (2019.3)\n",
      "Requirement already satisfied: setuptools in /home/ec2-user/anaconda3/envs/mxnet_p36/lib/python3.6/site-packages (from kiwisolver>=1.0.1->matplotlib~=3.0->gluonts) (46.1.3.post20200330)\n",
      "Building wheels for collected packages: smallmatter, holidays\n",
      "  Building wheel for smallmatter (PEP 517) ... \u001b[?25ldone\n",
      "\u001b[?25h  Created wheel for smallmatter: filename=smallmatter-0.0.3+12.g10f6707-py3-none-any.whl size=12760 sha256=76603f8f3143f567f286a5d32496f07a21e51eaa9772263e46a5285f84874d5f\n",
      "  Stored in directory: /tmp/pip-ephem-wheel-cache-vng3j1ka/wheels/a5/f4/07/cf75d68d1795c8be07c92e52b87b646df6f117238cd5735bce\n",
      "  Building wheel for holidays (setup.py) ... \u001b[?25ldone\n",
      "\u001b[?25h  Created wheel for holidays: filename=holidays-0.9.12-py3-none-any.whl size=47610 sha256=cc61db8b2401ea7cf88c40e4bb30651f9a5c6e62c5c5045a35ada95270142319\n",
      "  Stored in directory: /home/ec2-user/.cache/pip/wheels/02/33/ad/d2536fe7f536284398d86acc7bd9fb3d2a9eabbd66050c2e2b\n",
      "Successfully built smallmatter holidays\n",
      "Installing collected packages: dataclasses, pydantic, holidays, gluonts, smallmatter\n",
      "Successfully installed dataclasses-0.7 gluonts-0.5.1 holidays-0.9.12 pydantic-1.6.1 smallmatter-0.0.3+12.g10f6707\n",
      "\u001b[33mWARNING: You are using pip version 20.0.2; however, version 20.2.2 is available.\n",
      "You should consider upgrading via the '/home/ec2-user/anaconda3/envs/mxnet_p36/bin/python -m pip install --upgrade pip' command.\u001b[0m\n",
      "Note: you may need to restart the kernel to use updated packages.\n"
     ]
    }
   ],
   "source": [
    "%pip uninstall --yes enum34\n",
    "%pip install gluonts git+https://github.com/verdimrc/smallmatter@master#egg=smallmatter"
   ]
  },
  {
   "cell_type": "markdown",
   "metadata": {},
   "source": [
    "Download data"
   ]
  },
  {
   "cell_type": "code",
   "execution_count": 5,
   "metadata": {},
   "outputs": [],
   "source": [
    "from gluonts.dataset.repository import datasets\n",
    "from pathlib import Path\n",
    "dataset = datasets.get_dataset('m4_weekly', path=Path('../data/'))"
   ]
  },
  {
   "cell_type": "markdown",
   "metadata": {},
   "source": [
    "Next steps:\n",
    "    \n",
    "1. Convert to .csv\n",
    "2. Bump time from start 1750-01-01 00:00:00 to something saner\n",
    "3. Remember this is weekly, so align to W-SUN\n",
    "4. Simulate holes."
   ]
  },
  {
   "cell_type": "code",
   "execution_count": null,
   "metadata": {},
   "outputs": [],
   "source": []
  }
 ],
 "metadata": {
  "kernelspec": {
   "display_name": "conda_mxnet_p36",
   "language": "python",
   "name": "conda_mxnet_p36"
  },
  "language_info": {
   "codemirror_mode": {
    "name": "ipython",
    "version": 3
   },
   "file_extension": ".py",
   "mimetype": "text/x-python",
   "name": "python",
   "nbconvert_exporter": "python",
   "pygments_lexer": "ipython3",
   "version": "3.6.10"
  }
 },
 "nbformat": 4,
 "nbformat_minor": 4
}
