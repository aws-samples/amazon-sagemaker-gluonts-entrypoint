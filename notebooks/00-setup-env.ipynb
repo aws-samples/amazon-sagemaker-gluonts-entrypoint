{
 "cells": [
  {
   "cell_type": "markdown",
   "metadata": {},
   "source": [
    "<div style=\"font-size:200%;font-weight:bold\"><p>Pre-Requisites</p></div>\n",
    "\n",
    "The notebooks in this repository are designed to run on a SageMaker classic notebook instances. Please ensure that you choose the `conda_mxnet_latest_p37` kernel."
   ]
  },
  {
   "cell_type": "code",
   "execution_count": null,
   "metadata": {},
   "outputs": [],
   "source": [
    "%config InlineBackend.figure_format = 'retina'\n",
    "%load_ext autoreload\n",
    "%autoreload 2"
   ]
  },
  {
   "cell_type": "markdown",
   "metadata": {},
   "source": [
    "# Install Prerequisites\n",
    "\n",
    "The next cell install packages needed by subsequent notebooks.\n",
    "\n",
    "Notes:\n",
    "- <span style='color:firebrick'>always rerun the next cell after you restart your notebook instance.</span>\n",
    "- you may need to restart the Jupyter kernel to use the updated packages."
   ]
  },
  {
   "cell_type": "code",
   "execution_count": null,
   "metadata": {},
   "outputs": [],
   "source": [
    "%pip install \"gluonts~=0.8\" ujson git+https://github.com/aws-samples/smallmatter-package@main#egg=smallmatter\""
   ]
  },
  {
   "cell_type": "markdown",
   "metadata": {},
   "source": [
    "# Generate synthetic demand .csv"
   ]
  },
  {
   "cell_type": "markdown",
   "metadata": {},
   "source": [
    "Feel free to change the number of SKUs (i.e., timeseries) to generate."
   ]
  },
  {
   "cell_type": "code",
   "execution_count": null,
   "metadata": {},
   "outputs": [],
   "source": [
    "# Number of SKUs (i.e., timeseries) to generate.\n",
    "sku_count = 150"
   ]
  },
  {
   "cell_type": "markdown",
   "metadata": {},
   "source": [
    "Generate 1+ year of data"
   ]
  },
  {
   "cell_type": "code",
   "execution_count": null,
   "metadata": {},
   "outputs": [],
   "source": [
    "assert isinstance(sku_count, int) and (sku_count > 1), \\\n",
    "    \"sku_count must be a positive integer\"\n",
    "\n",
    "from gluonts.dataset.artificial import ComplexSeasonalTimeSeries\n",
    "from gluonts_nb_utils.generate_synthetic import generate_daily_csv\n",
    "\n",
    "# ComplexSeasonalTimeSeries starts on Thu 28-Nov-2013.\n",
    "# - Next SUN is 1-Dec-2013.\n",
    "# - Next MON is 2-Dec-2013.\n",
    "# - 1st week ends on 1-Dec-2013 (W-SUN, aligned to ending SUN).\n",
    "# - Subsequent seeks: 2-8/Dec/2013, 9-15/Dec/2013, ...\n",
    "\n",
    "length_low = 400\n",
    "length_high = int(length_low * 1.25)\n",
    "\n",
    "artificial_dataset=ComplexSeasonalTimeSeries(\n",
    "    num_series=sku_count,\n",
    "    prediction_length=7,\n",
    "    freq_str=\"D\",\n",
    "    length_low=length_low,\n",
    "    length_high=length_high,\n",
    "    min_val = 0,\n",
    "    is_integer=True,\n",
    "    is_noise=True,\n",
    "    is_scale=True,\n",
    "    percentage_unique_timestamps=0.0,\n",
    ")\n",
    "\n",
    "generate_daily_csv(\n",
    "    file_name='../data/input_to_forecast.csv',\n",
    "    artificial_dataset=artificial_dataset,\n",
    "    colnames=[\"sku\", \"timestamp\", \"quantity\"],\n",
    "    ts_prefix=\"item_\",\n",
    ")\n",
    "\n",
    "# Display statistics of generated timeseries.\n",
    "print('Statistics of generated timeseries:')\n",
    "import pandas as pd\n",
    "df = pd.read_csv('../data/input_to_forecast.csv', low_memory=False, parse_dates=['timestamp'], infer_datetime_format=True)\n",
    "\n",
    "display(df.groupby('sku').agg({'timestamp': ['min', 'max', 'count']}))"
   ]
  },
  {
   "cell_type": "code",
   "execution_count": null,
   "metadata": {},
   "outputs": [],
   "source": []
  }
 ],
 "metadata": {
  "kernelspec": {
   "display_name": "conda_mxnet_latest_p37",
   "language": "python",
   "name": "conda_mxnet_latest_p37"
  },
  "language_info": {
   "codemirror_mode": {
    "name": "ipython",
    "version": 3
   },
   "file_extension": ".py",
   "mimetype": "text/x-python",
   "name": "python",
   "nbconvert_exporter": "python",
   "pygments_lexer": "ipython3",
   "version": "3.7.10"
  }
 },
 "nbformat": 4,
 "nbformat_minor": 4
}
