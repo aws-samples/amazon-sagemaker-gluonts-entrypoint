{
 "cells": [
  {
   "cell_type": "markdown",
   "metadata": {},
   "source": [
    "# Install Prerequisites\n",
    "\n",
    "This notebook installs packages needed by subsequent notebooks. On your SageMaker notebook instance, you must:\n",
    "\n",
    "1. open this notebook with the `conda_mxnet_p36` kernel,\n",
    "2. then execute the cells \n",
    "\n",
    "**NOTE**: you must always rerun this notebook after you restart your notebook instance."
   ]
  },
  {
   "cell_type": "code",
   "execution_count": null,
   "metadata": {
    "jupyter": {
     "outputs_hidden": true
    }
   },
   "outputs": [],
   "source": [
    "%pip uninstall --yes enum34\n",
    "%pip install gluonts \"git+https://github.com/aws-samples/smallmatter-package@master#egg=smallmatter\""
   ]
  },
  {
   "cell_type": "markdown",
   "metadata": {},
   "source": [
    "Download data"
   ]
  },
  {
   "cell_type": "code",
   "execution_count": null,
   "metadata": {},
   "outputs": [],
   "source": [
    "from gluonts.dataset.repository import datasets\n",
    "from pathlib import Path\n",
    "dataset = datasets.get_dataset('m4_weekly', path=Path('../data/'))"
   ]
  },
  {
   "cell_type": "markdown",
   "metadata": {},
   "source": [
    "Next steps:\n",
    "    \n",
    "1. Convert to .csv\n",
    "2. Bump time from start 1750-01-01 00:00:00 to something saner\n",
    "3. Remember this is weekly, so align to W-SUN\n",
    "4. Simulate holes."
   ]
  },
  {
   "cell_type": "code",
   "execution_count": null,
   "metadata": {},
   "outputs": [],
   "source": []
  }
 ],
 "metadata": {
  "kernelspec": {
   "display_name": "conda_mxnet_p36",
   "language": "python",
   "name": "conda_mxnet_p36"
  },
  "language_info": {
   "codemirror_mode": {
    "name": "ipython",
    "version": 3
   },
   "file_extension": ".py",
   "mimetype": "text/x-python",
   "name": "python",
   "nbconvert_exporter": "python",
   "pygments_lexer": "ipython3",
   "version": "3.6.10"
  }
 },
 "nbformat": 4,
 "nbformat_minor": 4
}
