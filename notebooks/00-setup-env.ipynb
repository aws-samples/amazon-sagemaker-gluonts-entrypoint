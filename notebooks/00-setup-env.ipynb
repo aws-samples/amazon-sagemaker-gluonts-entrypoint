{
 "cells": [
  {
   "cell_type": "markdown",
   "metadata": {},
   "source": [
    "# Install Prerequisites\n",
    "\n",
    "This notebook installs packages needed by subsequent notebooks. On your SageMaker notebook instance, you must:\n",
    "\n",
    "1. open this notebook with the `conda_mxnet_p36` kernel,\n",
    "2. then execute the cells \n",
    "\n",
    "**NOTE**: you must always rerun this notebook after you restart your notebook instance."
   ]
  },
  {
   "cell_type": "code",
   "execution_count": null,
   "metadata": {},
   "outputs": [],
   "source": [
    "%pip uninstall --yes enum34\n",
    "%pip install gluonts \"pandas>=1.0,<1.1\" \"git+https://github.com/aws-samples/smallmatter-package@master#egg=smallmatter\"\n",
    "%mkdir ../data"
   ]
  },
  {
   "cell_type": "markdown",
   "metadata": {},
   "source": [
    "Download data"
   ]
  },
  {
   "cell_type": "code",
   "execution_count": null,
   "metadata": {},
   "outputs": [],
   "source": [
    "from gluonts.dataset.repository import datasets\n",
    "from pathlib import Path\n",
    "dataset = datasets.get_dataset('m4_weekly', path=Path('../data/'))"
   ]
  },
  {
   "cell_type": "markdown",
   "metadata": {},
   "source": [
    "Next steps:\n",
    "    \n",
    "1. Convert to .csv\n",
    "2. Bump time from start 1750-01-01 00:00:00 to something saner\n",
    "3. Remember this is weekly, so align to W-SUN\n",
    "4. Simulate holes."
   ]
  },
  {
   "cell_type": "markdown",
   "metadata": {},
   "source": [
    "# Use `gluonts` API to generate synthetic demand .csv\n",
    "\n",
    "See:\n",
    "\n",
    "- Generator: [gluonts.dataset.artificial.generate_synthetic.generate_sf2s_and_csv](https://gluon-ts.mxnet.io/api/gluonts/gluonts.dataset.artificial.generate_synthetic.html)\n",
    "- Customize properties of synthetic timeseries:\n",
    "  * [gluonts.dataset.artificial.ConstantDataset](https://gluon-ts.mxnet.io/api/gluonts/gluonts.dataset.artificial.html)\n",
    "  * [gluonts.dataset.artificial.ComplexSeasonalTimeSeries](https://gluon-ts.mxnet.io/api/gluonts/gluonts.dataset.artificial.html)"
   ]
  },
  {
   "cell_type": "code",
   "execution_count": null,
   "metadata": {},
   "outputs": [],
   "source": [
    "%load_ext autoreload\n",
    "%autoreload 2\n",
    "\n",
    "from gluonts.dataset.artificial import ConstantDataset, ComplexSeasonalTimeSeries\n",
    "import haha"
   ]
  },
  {
   "cell_type": "code",
   "execution_count": null,
   "metadata": {},
   "outputs": [],
   "source": [
    "%rm ../data/haha/input_to_forecast.csv\n",
    "\n",
    "# Synthetic data of daily-demand of 200 SKUs for year 2019.\n",
    "# This example uses ConstantDataset\n",
    "\n",
    "# ComplexSeasonalTimeSeries uses start_y, start_m, start_d = 2013, 11, 28 => Thu\n",
    "# Next SUN is 1-Dec-2013.\n",
    "# Next MON is 2-Dec-2013.\n",
    "# Weeks: 2-8/Dec/2013, 9-15/Dec/2013, ...\n",
    "haha.generate_daily_data(\n",
    "    '../data/',  # Need slash at the end\n",
    "    'haha',\n",
    "    ComplexSeasonalTimeSeries(\n",
    "        num_series=2,\n",
    "        prediction_length=2,\n",
    "        freq_str=\"D\",\n",
    "        length_low=20,\n",
    "        length_high=40,\n",
    "        min_val = 0,\n",
    "        is_integer=True,\n",
    "        proportion_missing_values=0.30,\n",
    "        is_noise=True,\n",
    "        is_scale=True,\n",
    "        percentage_unique_timestamps=0.0,\n",
    "    ),\n",
    "    #is_missing=True,\n",
    "    #num_missing=4,     # Delete every 4th timestamp\n",
    "    colnames=[\"sku\", \"timestamp\", \"quantity\"],\n",
    "    ts_prefix=\"item_\",\n",
    ")\n",
    "\n",
    "#!head ../data/haha/input_to_forecast.csv\n",
    "#!echo ...\n",
    "#!tail ../data/haha/input_to_forecast.csv\n",
    "!cat ../data/haha/input_to_forecast.csv"
   ]
  },
  {
   "cell_type": "code",
   "execution_count": null,
   "metadata": {},
   "outputs": [],
   "source": [
    "#%rm -fr ../data/haha/\n",
    "%rm ../data/haha/input_to_forecast.csv\n",
    "\n",
    "# Synthetic data of daily-demand of 200 SKUs for year 2019.\n",
    "# This example uses ConstantDataset\n",
    "haha.generate_weekly_data(\n",
    "    '../data/',  # Need slash at the end\n",
    "    'haha',\n",
    "    haha.MyConstantDataset(\n",
    "        freq=\"W\",\n",
    "        start=\"2019-01-05\",   # W-SUN at ending\n",
    "        #num_timeseries=200,\n",
    "        #num_steps=365,\n",
    "        num_timeseries=100,\n",
    "        num_steps=10,\n",
    "        is_random_constant=False,  # If True, takes precedence over is_different_scales\n",
    "        is_noise=True,\n",
    "        is_trend=True,\n",
    "    ),\n",
    "    #is_missing=False,\n",
    "    #num_missing=4,   # If is_missing, then delete every 4th timestamp.\n",
    "    ts_prefix=\"item_\",\n",
    ")\n",
    "\n",
    "!head ../data/haha/input_to_forecast.csv\n",
    "!tail ../data/haha/input_to_forecast.csv"
   ]
  },
  {
   "cell_type": "markdown",
   "metadata": {},
   "source": [
    "Postprocessing generated .csv: remove NaN to simulate "
   ]
  },
  {
   "cell_type": "code",
   "execution_count": null,
   "metadata": {},
   "outputs": [],
   "source": []
  }
 ],
 "metadata": {
  "kernelspec": {
   "display_name": "conda_mxnet_p36",
   "language": "python",
   "name": "conda_mxnet_p36"
  },
  "language_info": {
   "codemirror_mode": {
    "name": "ipython",
    "version": 3
   },
   "file_extension": ".py",
   "mimetype": "text/x-python",
   "name": "python",
   "nbconvert_exporter": "python",
   "pygments_lexer": "ipython3",
   "version": "3.6.10"
  }
 },
 "nbformat": 4,
 "nbformat_minor": 4
}
